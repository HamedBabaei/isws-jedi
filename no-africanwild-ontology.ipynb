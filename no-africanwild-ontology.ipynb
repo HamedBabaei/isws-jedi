{
 "cells": [
  {
   "cell_type": "code",
   "execution_count": 20,
   "id": "b0fe795e-326a-4555-bffa-2a5994c1ca3f",
   "metadata": {},
   "outputs": [],
   "source": [
    "import pandas as pd\n",
    "\n",
    "\n",
    "df = pd.read_csv(\"dataset/africanwildlife.csv\")\n",
    "\n",
    "# df"
   ]
  },
  {
   "cell_type": "code",
   "execution_count": 21,
   "id": "79f70154-a3bd-4302-aa01-f0affd2b011d",
   "metadata": {},
   "outputs": [],
   "source": [
    "from qa import JediQA\n",
    "from dataset import get_dataloader\n",
    "import config"
   ]
  },
  {
   "cell_type": "code",
   "execution_count": 23,
   "id": "b23c5461-99bd-4971-b1ab-d2d09c8b9e68",
   "metadata": {},
   "outputs": [],
   "source": [
    "for llm_id in config.models_list:\n",
    "    qa_model  = JediQA(llm_id, token=config.huggingface_token)\n",
    "    for prompt_type, prompt in config.prompt_list.items():    \n",
    "        dataloader = get_dataloader(df, qa_model.tokenizer, prompt, config.instruction, batch_size=1)\n",
    "    break"
   ]
  },
  {
   "cell_type": "code",
   "execution_count": 24,
   "id": "eced778e-8ce8-4e82-a8a1-734b433fe209",
   "metadata": {},
   "outputs": [
    {
     "data": {
      "text/plain": [
       "'meta-llama/Llama-3.2-1B-Instruct'"
      ]
     },
     "execution_count": 24,
     "metadata": {},
     "output_type": "execute_result"
    }
   ],
   "source": [
    "llm_id"
   ]
  },
  {
   "cell_type": "code",
   "execution_count": 19,
   "id": "a5db2b88-fb13-4604-b16c-770cfcecacd3",
   "metadata": {},
   "outputs": [
    {
     "name": "stderr",
     "output_type": "stream",
     "text": [
      "Setting `pad_token_id` to `eos_token_id`:128001 for open-end generation.\n",
      "Setting `pad_token_id` to `eos_token_id`:128001 for open-end generation.\n"
     ]
    },
    {
     "name": "stdout",
     "output_type": "stream",
     "text": [
      "Question: <|begin_of_text|><|start_header_id|>system<|end_header_id|>\n",
      "\n",
      "Cutting Knowledge Date: December 2023\n",
      "Today Date: 11 Jun 2025\n",
      "\n",
      "You are an advanced model specializing in question answering.<|eot_id|><|start_header_id|>user<|end_header_id|>\n",
      "\n",
      "Answer the following question with clear sentences. \n",
      "Avoid elaboration or unnecessary details.\n",
      "Question: Which animal eats which other animal?\n",
      "Answer:<|eot_id|><|start_header_id|>assistant<|end_header_id|>\n",
      "\n",
      "\n",
      "==========\n",
      "Gold Answer: ['The lion eats the impala.']\n",
      "==========\n",
      "LLM answer: Bees eat nectar and pollen from flowers.\n",
      "----------------------------------------------------------------------------------------------------------------------------------\n",
      "Question: <|begin_of_text|><|start_header_id|>system<|end_header_id|>\n",
      "\n",
      "Cutting Knowledge Date: December 2023\n",
      "Today Date: 11 Jun 2025\n",
      "\n",
      "You are an advanced model specializing in question answering.<|eot_id|><|start_header_id|>user<|end_header_id|>\n",
      "\n",
      "Answer the following question with clear sentences. \n",
      "Avoid elaboration or unnecessary details.\n",
      "Question: which animal is a herbivore?\n",
      "Answer:<|eot_id|><|start_header_id|>assistant<|end_header_id|>\n",
      "\n",
      "\n",
      "==========\n",
      "Gold Answer: ['Elephant is a herbivore']\n",
      "==========\n"
     ]
    },
    {
     "name": "stderr",
     "output_type": "stream",
     "text": [
      "Setting `pad_token_id` to `eos_token_id`:128001 for open-end generation.\n"
     ]
    },
    {
     "name": "stdout",
     "output_type": "stream",
     "text": [
      "LLM answer: A cow is a herbivore.\n",
      "----------------------------------------------------------------------------------------------------------------------------------\n",
      "Question: <|begin_of_text|><|start_header_id|>system<|end_header_id|>\n",
      "\n",
      "Cutting Knowledge Date: December 2023\n",
      "Today Date: 11 Jun 2025\n",
      "\n",
      "You are an advanced model specializing in question answering.<|eot_id|><|start_header_id|>user<|end_header_id|>\n",
      "\n",
      "Answer the following question with clear sentences. \n",
      "Avoid elaboration or unnecessary details.\n",
      "Question: Which plant parts does [this omnivorous or herbivorourus animal] eat?\n",
      "Answer:<|eot_id|><|start_header_id|>assistant<|end_header_id|>\n",
      "\n",
      "\n",
      "==========\n",
      "Gold Answer: tensor([nan], dtype=torch.float64)\n",
      "==========\n"
     ]
    },
    {
     "name": "stderr",
     "output_type": "stream",
     "text": [
      "Setting `pad_token_id` to `eos_token_id`:128001 for open-end generation.\n"
     ]
    },
    {
     "name": "stdout",
     "output_type": "stream",
     "text": [
      "LLM answer: The animal in question is an omnivorous herbivore, and it eats leaves, stems, fruits, and flowers of various plants.\n",
      "----------------------------------------------------------------------------------------------------------------------------------\n",
      "Question: <|begin_of_text|><|start_header_id|>system<|end_header_id|>\n",
      "\n",
      "Cutting Knowledge Date: December 2023\n",
      "Today Date: 11 Jun 2025\n",
      "\n",
      "You are an advanced model specializing in question answering.<|eot_id|><|start_header_id|>user<|end_header_id|>\n",
      "\n",
      "Answer the following question with clear sentences. \n",
      "Avoid elaboration or unnecessary details.\n",
      "Question: Does a lion eat plants or plant parts?\n",
      "Answer:<|eot_id|><|start_header_id|>assistant<|end_header_id|>\n",
      "\n",
      "\n",
      "==========\n",
      "Gold Answer: ['No, a lion does not eat plants or plant parts.']\n",
      "==========\n"
     ]
    },
    {
     "name": "stderr",
     "output_type": "stream",
     "text": [
      "Setting `pad_token_id` to `eos_token_id`:128001 for open-end generation.\n"
     ]
    },
    {
     "name": "stdout",
     "output_type": "stream",
     "text": [
      "LLM answer: Yes, lions primarily eat meat, but they may occasionally eat plants, such as grasses and other vegetation, as a supplement to their diet.\n",
      "----------------------------------------------------------------------------------------------------------------------------------\n",
      "Question: <|begin_of_text|><|start_header_id|>system<|end_header_id|>\n",
      "\n",
      "Cutting Knowledge Date: December 2023\n",
      "Today Date: 11 Jun 2025\n",
      "\n",
      "You are an advanced model specializing in question answering.<|eot_id|><|start_header_id|>user<|end_header_id|>\n",
      "\n",
      "Answer the following question with clear sentences. \n",
      "Avoid elaboration or unnecessary details.\n",
      "Question: Is there an animal that does not drink water?\n",
      "Answer:<|eot_id|><|start_header_id|>assistant<|end_header_id|>\n",
      "\n",
      "\n",
      "==========\n",
      "Gold Answer: [\"No, there is no animal which doesn't drink water\"]\n",
      "==========\n"
     ]
    },
    {
     "name": "stderr",
     "output_type": "stream",
     "text": [
      "Setting `pad_token_id` to `eos_token_id`:128001 for open-end generation.\n"
     ]
    },
    {
     "name": "stdout",
     "output_type": "stream",
     "text": [
      "LLM answer: Yes, there is an animal that does not drink water: the axolotl.\n",
      "----------------------------------------------------------------------------------------------------------------------------------\n",
      "Question: <|begin_of_text|><|start_header_id|>system<|end_header_id|>\n",
      "\n",
      "Cutting Knowledge Date: December 2023\n",
      "Today Date: 11 Jun 2025\n",
      "\n",
      "You are an advanced model specializing in question answering.<|eot_id|><|start_header_id|>user<|end_header_id|>\n",
      "\n",
      "Answer the following question with clear sentences. \n",
      "Avoid elaboration or unnecessary details.\n",
      "Question: Which plants eat animals?\n",
      "Answer:<|eot_id|><|start_header_id|>assistant<|end_header_id|>\n",
      "\n",
      "\n",
      "==========\n",
      "Gold Answer: ['CarnivorousPlant eats animals']\n",
      "==========\n"
     ]
    },
    {
     "name": "stderr",
     "output_type": "stream",
     "text": [
      "Setting `pad_token_id` to `eos_token_id`:128001 for open-end generation.\n"
     ]
    },
    {
     "name": "stdout",
     "output_type": "stream",
     "text": [
      "LLM answer: Plants are the primary consumers of other plants and animals, and some plants are carnivorous, while others have symbiotic relationships with animals.\n",
      "----------------------------------------------------------------------------------------------------------------------------------\n",
      "Question: <|begin_of_text|><|start_header_id|>system<|end_header_id|>\n",
      "\n",
      "Cutting Knowledge Date: December 2023\n",
      "Today Date: 11 Jun 2025\n",
      "\n",
      "You are an advanced model specializing in question answering.<|eot_id|><|start_header_id|>user<|end_header_id|>\n",
      "\n",
      "Answer the following question with clear sentences. \n",
      "Avoid elaboration or unnecessary details.\n",
      "Question: Which animals eat the Impalas?\n",
      "Answer:<|eot_id|><|start_header_id|>assistant<|end_header_id|>\n",
      "\n",
      "\n",
      "==========\n",
      "Gold Answer: ['lion eats the impalas']\n",
      "==========\n"
     ]
    },
    {
     "name": "stderr",
     "output_type": "stream",
     "text": [
      "Setting `pad_token_id` to `eos_token_id`:128001 for open-end generation.\n"
     ]
    },
    {
     "name": "stdout",
     "output_type": "stream",
     "text": [
      "LLM answer: Zebras, wildebeests, and hartebeests are known to be the main predators of impalas.\n",
      "----------------------------------------------------------------------------------------------------------------------------------\n",
      "Question: <|begin_of_text|><|start_header_id|>system<|end_header_id|>\n",
      "\n",
      "Cutting Knowledge Date: December 2023\n",
      "Today Date: 11 Jun 2025\n",
      "\n",
      "You are an advanced model specializing in question answering.<|eot_id|><|start_header_id|>user<|end_header_id|>\n",
      "\n",
      "Answer the following question with clear sentences. \n",
      "Avoid elaboration or unnecessary details.\n",
      "Question: Which animals are the predators of Impala?\n",
      "Answer:<|eot_id|><|start_header_id|>assistant<|end_header_id|>\n",
      "\n",
      "\n",
      "==========\n",
      "Gold Answer: ['lions are the predators of Impala']\n",
      "==========\n"
     ]
    },
    {
     "name": "stderr",
     "output_type": "stream",
     "text": [
      "Setting `pad_token_id` to `eos_token_id`:128001 for open-end generation.\n",
      "Setting `pad_token_id` to `eos_token_id`:128001 for open-end generation.\n"
     ]
    },
    {
     "name": "stdout",
     "output_type": "stream",
     "text": [
      "LLM answer: The predators of impalas include lions, leopards, and cheetahs.\n",
      "----------------------------------------------------------------------------------------------------------------------------------\n",
      "Question: <|begin_of_text|><|start_header_id|>system<|end_header_id|>\n",
      "\n",
      "Cutting Knowledge Date: December 2023\n",
      "Today Date: 11 Jun 2025\n",
      "\n",
      "You are an advanced model specializing in question answering.<|eot_id|><|start_header_id|>user<|end_header_id|>\n",
      "\n",
      "Answer the following question with clear sentences. \n",
      "Avoid elaboration or unnecessary details.\n",
      "Question: Are there impala in africa?\n",
      "Answer:<|eot_id|><|start_header_id|>assistant<|end_header_id|>\n",
      "\n",
      "\n",
      "==========\n",
      "Gold Answer: ['Yes, Impala are in africa']\n",
      "==========\n",
      "LLM answer: Yes, impalas are found in Africa.\n",
      "----------------------------------------------------------------------------------------------------------------------------------\n",
      "Question: <|begin_of_text|><|start_header_id|>system<|end_header_id|>\n",
      "\n",
      "Cutting Knowledge Date: December 2023\n",
      "Today Date: 11 Jun 2025\n",
      "\n",
      "You are an advanced model specializing in question answering.<|eot_id|><|start_header_id|>user<|end_header_id|>\n",
      "\n",
      "Answer the following question with clear sentences. \n",
      "Avoid elaboration or unnecessary details.\n",
      "Question: Which country do I have to visit to see giraffe?\n",
      "Answer:<|eot_id|><|start_header_id|>assistant<|end_header_id|>\n",
      "\n",
      "\n",
      "==========\n",
      "Gold Answer: [\"Sorry, I don't have any information about giraffe\"]\n",
      "==========\n"
     ]
    },
    {
     "name": "stderr",
     "output_type": "stream",
     "text": [
      "Setting `pad_token_id` to `eos_token_id`:128001 for open-end generation.\n"
     ]
    },
    {
     "name": "stdout",
     "output_type": "stream",
     "text": [
      "LLM answer: South Africa is the country where you can see giraffes.\n",
      "----------------------------------------------------------------------------------------------------------------------------------\n",
      "Question: <|begin_of_text|><|start_header_id|>system<|end_header_id|>\n",
      "\n",
      "Cutting Knowledge Date: December 2023\n",
      "Today Date: 11 Jun 2025\n",
      "\n",
      "You are an advanced model specializing in question answering.<|eot_id|><|start_header_id|>user<|end_header_id|>\n",
      "\n",
      "Answer the following question with clear sentences. \n",
      "Avoid elaboration or unnecessary details.\n",
      "Question: In what kind of habitat do giraff live?\n",
      "Answer:<|eot_id|><|start_header_id|>assistant<|end_header_id|>\n",
      "\n",
      "\n",
      "==========\n",
      "Gold Answer: [\"Sorry, I don't have any information about giraffe\"]\n",
      "==========\n"
     ]
    },
    {
     "name": "stderr",
     "output_type": "stream",
     "text": [
      "Setting `pad_token_id` to `eos_token_id`:128001 for open-end generation.\n"
     ]
    },
    {
     "name": "stdout",
     "output_type": "stream",
     "text": [
      "LLM answer: Giraffes live in savannas and grasslands.\n",
      "----------------------------------------------------------------------------------------------------------------------------------\n",
      "Question: <|begin_of_text|><|start_header_id|>system<|end_header_id|>\n",
      "\n",
      "Cutting Knowledge Date: December 2023\n",
      "Today Date: 11 Jun 2025\n",
      "\n",
      "You are an advanced model specializing in question answering.<|eot_id|><|start_header_id|>user<|end_header_id|>\n",
      "\n",
      "Answer the following question with clear sentences. \n",
      "Avoid elaboration or unnecessary details.\n",
      "Question: Which animals are endangered?\n",
      "Answer:<|eot_id|><|start_header_id|>assistant<|end_header_id|>\n",
      "\n",
      "\n",
      "==========\n",
      "Gold Answer: ['Impalas are endangered']\n",
      "==========\n"
     ]
    },
    {
     "name": "stderr",
     "output_type": "stream",
     "text": [
      "Setting `pad_token_id` to `eos_token_id`:128001 for open-end generation.\n"
     ]
    },
    {
     "name": "stdout",
     "output_type": "stream",
     "text": [
      "LLM answer: The following animals are endangered: \n",
      "\n",
      "1. Giant Panda\n",
      "2. Amur Leopard\n",
      "3. Vaquita\n",
      "4. Javan Rhino\n",
      "5. Northern White Rhino\n",
      "6. Sumatran Rhino\n",
      "7. Asiatic Lion\n",
      "8. Mountain Gorilla\n",
      "----------------------------------------------------------------------------------------------------------------------------------\n",
      "Question: <|begin_of_text|><|start_header_id|>system<|end_header_id|>\n",
      "\n",
      "Cutting Knowledge Date: December 2023\n",
      "Today Date: 11 Jun 2025\n",
      "\n",
      "You are an advanced model specializing in question answering.<|eot_id|><|start_header_id|>user<|end_header_id|>\n",
      "\n",
      "Answer the following question with clear sentences. \n",
      "Avoid elaboration or unnecessary details.\n",
      "Question: Do giraffe and Elephant live in the same habitat?\n",
      "Answer:<|eot_id|><|start_header_id|>assistant<|end_header_id|>\n",
      "\n",
      "\n",
      "==========\n",
      "Gold Answer: ['No giraffe and Elephant do not live in the same habitat']\n",
      "==========\n"
     ]
    },
    {
     "name": "stderr",
     "output_type": "stream",
     "text": [
      "Setting `pad_token_id` to `eos_token_id`:128001 for open-end generation.\n"
     ]
    },
    {
     "name": "stdout",
     "output_type": "stream",
     "text": [
      "LLM answer: Yes, giraffes and elephants can be found in the same habitats.\n",
      "----------------------------------------------------------------------------------------------------------------------------------\n",
      "Question: <|begin_of_text|><|start_header_id|>system<|end_header_id|>\n",
      "\n",
      "Cutting Knowledge Date: December 2023\n",
      "Today Date: 11 Jun 2025\n",
      "\n",
      "You are an advanced model specializing in question answering.<|eot_id|><|start_header_id|>user<|end_header_id|>\n",
      "\n",
      "Answer the following question with clear sentences. \n",
      "Avoid elaboration or unnecessary details.\n",
      "Question: Are there animals that are carnivore but still eat some plants or parts of plants?\n",
      "Answer:<|eot_id|><|start_header_id|>assistant<|end_header_id|>\n",
      "\n",
      "\n",
      "==========\n",
      "Gold Answer: ['I do not have any information about it']\n",
      "==========\n"
     ]
    },
    {
     "name": "stderr",
     "output_type": "stream",
     "text": [
      "Setting `pad_token_id` to `eos_token_id`:128001 for open-end generation.\n",
      "Setting `pad_token_id` to `eos_token_id`:128001 for open-end generation.\n"
     ]
    },
    {
     "name": "stdout",
     "output_type": "stream",
     "text": [
      "LLM answer: Yes, some animals are carnivorous, meaning they primarily eat other animals or animal parts, but some may also eat plants.\n",
      "----------------------------------------------------------------------------------------------------------------------------------\n",
      "Question: <|begin_of_text|><|start_header_id|>system<|end_header_id|>\n",
      "\n",
      "Cutting Knowledge Date: December 2023\n",
      "Today Date: 11 Jun 2025\n",
      "\n",
      "You are an advanced model specializing in question answering.<|eot_id|><|start_header_id|>user<|end_header_id|>\n",
      "\n",
      "Answer the following question with clear sentences. \n",
      "Avoid elaboration or unnecessary details.\n",
      "Question: What is defined as being a part of a tree?\n",
      "\n",
      "Answer:<|eot_id|><|start_header_id|>assistant<|end_header_id|>\n",
      "\n",
      "\n",
      "==========\n",
      "Gold Answer: ['branch is part of tree']\n",
      "==========\n",
      "LLM answer: A branch.\n",
      "----------------------------------------------------------------------------------------------------------------------------------\n",
      "Question: <|begin_of_text|><|start_header_id|>system<|end_header_id|>\n",
      "\n",
      "Cutting Knowledge Date: December 2023\n",
      "Today Date: 11 Jun 2025\n",
      "\n",
      "You are an advanced model specializing in question answering.<|eot_id|><|start_header_id|>user<|end_header_id|>\n",
      "\n",
      "Answer the following question with clear sentences. \n",
      "Avoid elaboration or unnecessary details.\n",
      "Question: Which plant is defined as having no branches?\n",
      "\n",
      "Answer:<|eot_id|><|start_header_id|>assistant<|end_header_id|>\n",
      "\n",
      "\n",
      "==========\n",
      "Gold Answer: ['Palmtree has no branches']\n",
      "==========\n",
      "LLM answer: The answer is a Cacti.\n",
      "----------------------------------------------------------------------------------------------------------------------------------\n"
     ]
    }
   ],
   "source": [
    "for batch in dataloader:\n",
    "    print(\"Question:\", batch['text'][0])\n",
    "    print(\"==\"*5)\n",
    "    print(\"Gold Answer:\", batch['answer'])\n",
    "    print(\"==\"*5)\n",
    "    print(\"LLM answer:\", qa_model.answer(batch['text']))\n",
    "    print(\"-------------\"*10)"
   ]
  },
  {
   "cell_type": "code",
   "execution_count": 5,
   "id": "a359e869-2fb7-4656-9398-0c7b8fbf425e",
   "metadata": {},
   "outputs": [
    {
     "ename": "KeyError",
     "evalue": "0",
     "output_type": "error",
     "traceback": [
      "\u001b[0;31m---------------------------------------------------------------------------\u001b[0m",
      "\u001b[0;31mKeyError\u001b[0m                                  Traceback (most recent call last)",
      "Cell \u001b[0;32mIn[5], line 1\u001b[0m\n\u001b[0;32m----> 1\u001b[0m \u001b[38;5;28mprint\u001b[39m(\u001b[43mbatch\u001b[49m\u001b[43m[\u001b[49m\u001b[38;5;241;43m0\u001b[39;49m\u001b[43m]\u001b[49m[\u001b[38;5;241m0\u001b[39m])\n",
      "\u001b[0;31mKeyError\u001b[0m: 0"
     ]
    }
   ],
   "source": [
    "print(batch[0][0])"
   ]
  },
  {
   "cell_type": "code",
   "execution_count": 7,
   "id": "f7e1a67e-3675-44ad-97ea-fc861e4eecae",
   "metadata": {},
   "outputs": [
    {
     "data": {
      "text/plain": [
       "['<|begin_of_text|><|start_header_id|>system<|end_header_id|>\\n\\nCutting Knowledge Date: December 2023\\nToday Date: 11 Jun 2025\\n\\nYou are an advanced model specializing in question answering.<|eot_id|><|start_header_id|>user<|end_header_id|>\\n\\nAnswer the following question with clear sentences. \\nAvoid elaboration or unnecessary details.\\nQuestion: Which animal eats which other animal?\\nAnswer:<|eot_id|><|start_header_id|>assistant<|end_header_id|>\\n\\n']"
      ]
     },
     "execution_count": 7,
     "metadata": {},
     "output_type": "execute_result"
    }
   ],
   "source": [
    "batch['text']"
   ]
  },
  {
   "cell_type": "code",
   "execution_count": 8,
   "id": "47ee8815-4b75-4d53-a1bb-08c5aa84117b",
   "metadata": {},
   "outputs": [
    {
     "data": {
      "text/plain": [
       "['The lion eats the impala.']"
      ]
     },
     "execution_count": 8,
     "metadata": {},
     "output_type": "execute_result"
    }
   ],
   "source": [
    "batch['answer']"
   ]
  },
  {
   "cell_type": "code",
   "execution_count": 9,
   "id": "0bf95217-b46c-4f22-8da6-5521530287e2",
   "metadata": {},
   "outputs": [
    {
     "name": "stderr",
     "output_type": "stream",
     "text": [
      "Setting `pad_token_id` to `eos_token_id`:128001 for open-end generation.\n"
     ]
    },
    {
     "data": {
      "text/plain": [
       "'Bees eat nectar from flowers.'"
      ]
     },
     "execution_count": 9,
     "metadata": {},
     "output_type": "execute_result"
    }
   ],
   "source": [
    "qa_model.answer(batch['text'])"
   ]
  },
  {
   "cell_type": "code",
   "execution_count": null,
   "id": "5fdc6158-f0d3-4fbb-814d-b52e195d3814",
   "metadata": {},
   "outputs": [],
   "source": []
  }
 ],
 "metadata": {
  "kernelspec": {
   "display_name": "Python 3 (ipykernel)",
   "language": "python",
   "name": "python3"
  },
  "language_info": {
   "codemirror_mode": {
    "name": "ipython",
    "version": 3
   },
   "file_extension": ".py",
   "mimetype": "text/x-python",
   "name": "python",
   "nbconvert_exporter": "python",
   "pygments_lexer": "ipython3",
   "version": "3.9.16"
  }
 },
 "nbformat": 4,
 "nbformat_minor": 5
}
