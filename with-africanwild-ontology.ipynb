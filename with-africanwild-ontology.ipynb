{
 "cells": [
  {
   "cell_type": "code",
   "execution_count": 1,
   "id": "b0fe795e-326a-4555-bffa-2a5994c1ca3f",
   "metadata": {},
   "outputs": [],
   "source": [
    "import pandas as pd\n",
    "\n",
    "\n",
    "df = pd.read_csv(\"dataset/africanwildlife.csv\")\n",
    "\n",
    "# df"
   ]
  },
  {
   "cell_type": "code",
   "execution_count": 2,
   "id": "79f70154-a3bd-4302-aa01-f0affd2b011d",
   "metadata": {},
   "outputs": [
    {
     "name": "stderr",
     "output_type": "stream",
     "text": [
      "2025-06-11 16:39:29.424897: I tensorflow/core/util/port.cc:153] oneDNN custom operations are on. You may see slightly different numerical results due to floating-point round-off errors from different computation orders. To turn them off, set the environment variable `TF_ENABLE_ONEDNN_OPTS=0`.\n",
      "2025-06-11 16:39:29.434301: E external/local_xla/xla/stream_executor/cuda/cuda_fft.cc:485] Unable to register cuFFT factory: Attempting to register factory for plugin cuFFT when one has already been registered\n",
      "2025-06-11 16:39:29.446255: E external/local_xla/xla/stream_executor/cuda/cuda_dnn.cc:8454] Unable to register cuDNN factory: Attempting to register factory for plugin cuDNN when one has already been registered\n",
      "2025-06-11 16:39:29.449932: E external/local_xla/xla/stream_executor/cuda/cuda_blas.cc:1452] Unable to register cuBLAS factory: Attempting to register factory for plugin cuBLAS when one has already been registered\n",
      "2025-06-11 16:39:29.459461: I tensorflow/core/platform/cpu_feature_guard.cc:210] This TensorFlow binary is optimized to use available CPU instructions in performance-critical operations.\n",
      "To enable the following instructions: AVX2 AVX512F AVX512_VNNI AVX512_BF16 AVX512_FP16 AVX_VNNI AMX_TILE AMX_INT8 AMX_BF16 FMA, in other operations, rebuild TensorFlow with the appropriate compiler flags.\n",
      "2025-06-11 16:39:32.772026: W tensorflow/compiler/tf2tensorrt/utils/py_utils.cc:38] TF-TRT Warning: Could not find TensorRT\n"
     ]
    }
   ],
   "source": [
    "from qa import JediQA\n",
    "from dataset import get_dataloader\n",
    "import config"
   ]
  },
  {
   "cell_type": "code",
   "execution_count": 4,
   "id": "b23c5461-99bd-4971-b1ab-d2d09c8b9e68",
   "metadata": {},
   "outputs": [],
   "source": [
    "for llm_id in config.models_list:\n",
    "    qa_model  = JediQA(llm_id, token=config.huggingface_token)\n",
    "    for prompt_type, prompt in config.prompt_african_list.items():    \n",
    "        dataloader = get_dataloader(df, qa_model.tokenizer, prompt, config.instruction, batch_size=1)\n",
    "    break"
   ]
  },
  {
   "cell_type": "code",
   "execution_count": 5,
   "id": "eced778e-8ce8-4e82-a8a1-734b433fe209",
   "metadata": {},
   "outputs": [
    {
     "data": {
      "text/plain": [
       "'meta-llama/Llama-3.2-1B-Instruct'"
      ]
     },
     "execution_count": 5,
     "metadata": {},
     "output_type": "execute_result"
    }
   ],
   "source": [
    "llm_id"
   ]
  },
  {
   "cell_type": "code",
   "execution_count": 6,
   "id": "a5db2b88-fb13-4604-b16c-770cfcecacd3",
   "metadata": {},
   "outputs": [
    {
     "name": "stdout",
     "output_type": "stream",
     "text": [
      "Question: <|begin_of_text|><|start_header_id|>system<|end_header_id|>\n",
      "\n",
      "Cutting Knowledge Date: December 2023\n",
      "Today Date: 11 Jun 2025\n",
      "\n",
      "You are an advanced model specializing in question answering.<|eot_id|><|start_header_id|>user<|end_header_id|>\n",
      "\n",
      "Answer the following question with clear sentences. \n",
      "Avoid elaboration or unnecessary details.\n",
      "Focus only on the African wild context when answering.\n",
      "\n",
      "Question: Which animal eats which other animal?\n",
      "Answer:<|eot_id|><|start_header_id|>assistant<|end_header_id|>\n",
      "\n",
      "\n",
      "==========\n",
      "Gold Answer: ['The lion eats the impala.']\n",
      "==========\n"
     ]
    },
    {
     "name": "stderr",
     "output_type": "stream",
     "text": [
      "Setting `pad_token_id` to `eos_token_id`:128001 for open-end generation.\n",
      "Setting `pad_token_id` to `eos_token_id`:128001 for open-end generation.\n",
      "Setting `pad_token_id` to `eos_token_id`:128001 for open-end generation.\n"
     ]
    },
    {
     "name": "stdout",
     "output_type": "stream",
     "text": [
      "LLM answer: In the wild, lions eat zebras.\n",
      "----------------------------------------------------------------------------------------------------------------------------------\n",
      "Question: <|begin_of_text|><|start_header_id|>system<|end_header_id|>\n",
      "\n",
      "Cutting Knowledge Date: December 2023\n",
      "Today Date: 11 Jun 2025\n",
      "\n",
      "You are an advanced model specializing in question answering.<|eot_id|><|start_header_id|>user<|end_header_id|>\n",
      "\n",
      "Answer the following question with clear sentences. \n",
      "Avoid elaboration or unnecessary details.\n",
      "Focus only on the African wild context when answering.\n",
      "\n",
      "Question: which animal is a herbivore?\n",
      "Answer:<|eot_id|><|start_header_id|>assistant<|end_header_id|>\n",
      "\n",
      "\n",
      "==========\n",
      "Gold Answer: ['Elephant is a herbivore']\n",
      "==========\n",
      "LLM answer: The giraffe is a herbivore.\n",
      "----------------------------------------------------------------------------------------------------------------------------------\n",
      "Question: <|begin_of_text|><|start_header_id|>system<|end_header_id|>\n",
      "\n",
      "Cutting Knowledge Date: December 2023\n",
      "Today Date: 11 Jun 2025\n",
      "\n",
      "You are an advanced model specializing in question answering.<|eot_id|><|start_header_id|>user<|end_header_id|>\n",
      "\n",
      "Answer the following question with clear sentences. \n",
      "Avoid elaboration or unnecessary details.\n",
      "Focus only on the African wild context when answering.\n",
      "\n",
      "Question: Which plant parts does [this omnivorous or herbivorourus animal] eat?\n",
      "Answer:<|eot_id|><|start_header_id|>assistant<|end_header_id|>\n",
      "\n",
      "\n",
      "==========\n",
      "Gold Answer: tensor([nan], dtype=torch.float64)\n",
      "==========\n"
     ]
    },
    {
     "name": "stderr",
     "output_type": "stream",
     "text": [
      "Setting `pad_token_id` to `eos_token_id`:128001 for open-end generation.\n"
     ]
    },
    {
     "name": "stdout",
     "output_type": "stream",
     "text": [
      "LLM answer: The lion eats grasses, leaves, and fruits.\n",
      "----------------------------------------------------------------------------------------------------------------------------------\n",
      "Question: <|begin_of_text|><|start_header_id|>system<|end_header_id|>\n",
      "\n",
      "Cutting Knowledge Date: December 2023\n",
      "Today Date: 11 Jun 2025\n",
      "\n",
      "You are an advanced model specializing in question answering.<|eot_id|><|start_header_id|>user<|end_header_id|>\n",
      "\n",
      "Answer the following question with clear sentences. \n",
      "Avoid elaboration or unnecessary details.\n",
      "Focus only on the African wild context when answering.\n",
      "\n",
      "Question: Does a lion eat plants or plant parts?\n",
      "Answer:<|eot_id|><|start_header_id|>assistant<|end_header_id|>\n",
      "\n",
      "\n",
      "==========\n",
      "Gold Answer: ['No, a lion does not eat plants or plant parts.']\n",
      "==========\n"
     ]
    },
    {
     "name": "stderr",
     "output_type": "stream",
     "text": [
      "Setting `pad_token_id` to `eos_token_id`:128001 for open-end generation.\n"
     ]
    },
    {
     "name": "stdout",
     "output_type": "stream",
     "text": [
      "LLM answer: No, lions primarily eat meat, specifically large ungulates, such as zebras, antelopes, and buffaloes.\n",
      "----------------------------------------------------------------------------------------------------------------------------------\n",
      "Question: <|begin_of_text|><|start_header_id|>system<|end_header_id|>\n",
      "\n",
      "Cutting Knowledge Date: December 2023\n",
      "Today Date: 11 Jun 2025\n",
      "\n",
      "You are an advanced model specializing in question answering.<|eot_id|><|start_header_id|>user<|end_header_id|>\n",
      "\n",
      "Answer the following question with clear sentences. \n",
      "Avoid elaboration or unnecessary details.\n",
      "Focus only on the African wild context when answering.\n",
      "\n",
      "Question: Is there an animal that does not drink water?\n",
      "Answer:<|eot_id|><|start_header_id|>assistant<|end_header_id|>\n",
      "\n",
      "\n",
      "==========\n",
      "Gold Answer: [\"No, there is no animal which doesn't drink water\"]\n",
      "==========\n"
     ]
    },
    {
     "name": "stderr",
     "output_type": "stream",
     "text": [
      "Setting `pad_token_id` to `eos_token_id`:128001 for open-end generation.\n"
     ]
    },
    {
     "name": "stdout",
     "output_type": "stream",
     "text": [
      "LLM answer: The African elephant does not drink water, as they are adapted to conserve water and can go without it for long periods of time.\n",
      "----------------------------------------------------------------------------------------------------------------------------------\n",
      "Question: <|begin_of_text|><|start_header_id|>system<|end_header_id|>\n",
      "\n",
      "Cutting Knowledge Date: December 2023\n",
      "Today Date: 11 Jun 2025\n",
      "\n",
      "You are an advanced model specializing in question answering.<|eot_id|><|start_header_id|>user<|end_header_id|>\n",
      "\n",
      "Answer the following question with clear sentences. \n",
      "Avoid elaboration or unnecessary details.\n",
      "Focus only on the African wild context when answering.\n",
      "\n",
      "Question: Which plants eat animals?\n",
      "Answer:<|eot_id|><|start_header_id|>assistant<|end_header_id|>\n",
      "\n",
      "\n",
      "==========\n",
      "Gold Answer: ['CarnivorousPlant eats animals']\n",
      "==========\n"
     ]
    },
    {
     "name": "stderr",
     "output_type": "stream",
     "text": [
      "Setting `pad_token_id` to `eos_token_id`:128001 for open-end generation.\n"
     ]
    },
    {
     "name": "stdout",
     "output_type": "stream",
     "text": [
      "LLM answer: Some African wild plants that eat animals include:\n",
      "\n",
      "- Bovids (such as wildebeest, zebras, and antelopes)\n",
      "- Hippopotamuses\n",
      "- Crocodiles\n",
      "- Lions\n",
      "- Hyenas\n",
      "- Antelopes\n",
      "- Chimpanzees\n",
      "----------------------------------------------------------------------------------------------------------------------------------\n",
      "Question: <|begin_of_text|><|start_header_id|>system<|end_header_id|>\n",
      "\n",
      "Cutting Knowledge Date: December 2023\n",
      "Today Date: 11 Jun 2025\n",
      "\n",
      "You are an advanced model specializing in question answering.<|eot_id|><|start_header_id|>user<|end_header_id|>\n",
      "\n",
      "Answer the following question with clear sentences. \n",
      "Avoid elaboration or unnecessary details.\n",
      "Focus only on the African wild context when answering.\n",
      "\n",
      "Question: Which animals eat the Impalas?\n",
      "Answer:<|eot_id|><|start_header_id|>assistant<|end_header_id|>\n",
      "\n",
      "\n",
      "==========\n",
      "Gold Answer: ['lion eats the impalas']\n",
      "==========\n"
     ]
    },
    {
     "name": "stderr",
     "output_type": "stream",
     "text": [
      "Setting `pad_token_id` to `eos_token_id`:128001 for open-end generation.\n"
     ]
    },
    {
     "name": "stdout",
     "output_type": "stream",
     "text": [
      "LLM answer: In the wild, lions, leopards, and hyenas are known to prey on Impalas.\n",
      "----------------------------------------------------------------------------------------------------------------------------------\n",
      "Question: <|begin_of_text|><|start_header_id|>system<|end_header_id|>\n",
      "\n",
      "Cutting Knowledge Date: December 2023\n",
      "Today Date: 11 Jun 2025\n",
      "\n",
      "You are an advanced model specializing in question answering.<|eot_id|><|start_header_id|>user<|end_header_id|>\n",
      "\n",
      "Answer the following question with clear sentences. \n",
      "Avoid elaboration or unnecessary details.\n",
      "Focus only on the African wild context when answering.\n",
      "\n",
      "Question: Which animals are the predators of Impala?\n",
      "Answer:<|eot_id|><|start_header_id|>assistant<|end_header_id|>\n",
      "\n",
      "\n",
      "==========\n",
      "Gold Answer: ['lions are the predators of Impala']\n",
      "==========\n"
     ]
    },
    {
     "name": "stderr",
     "output_type": "stream",
     "text": [
      "Setting `pad_token_id` to `eos_token_id`:128001 for open-end generation.\n",
      "Setting `pad_token_id` to `eos_token_id`:128001 for open-end generation.\n"
     ]
    },
    {
     "name": "stdout",
     "output_type": "stream",
     "text": [
      "LLM answer: In the African wild, predators of Impala include lions, leopards, cheetahs, and caracals.\n",
      "----------------------------------------------------------------------------------------------------------------------------------\n",
      "Question: <|begin_of_text|><|start_header_id|>system<|end_header_id|>\n",
      "\n",
      "Cutting Knowledge Date: December 2023\n",
      "Today Date: 11 Jun 2025\n",
      "\n",
      "You are an advanced model specializing in question answering.<|eot_id|><|start_header_id|>user<|end_header_id|>\n",
      "\n",
      "Answer the following question with clear sentences. \n",
      "Avoid elaboration or unnecessary details.\n",
      "Focus only on the African wild context when answering.\n",
      "\n",
      "Question: Are there impala in africa?\n",
      "Answer:<|eot_id|><|start_header_id|>assistant<|end_header_id|>\n",
      "\n",
      "\n",
      "==========\n",
      "Gold Answer: ['Yes, Impala are in africa']\n",
      "==========\n",
      "LLM answer: Yes, impalas are found in Africa.\n",
      "----------------------------------------------------------------------------------------------------------------------------------\n",
      "Question: <|begin_of_text|><|start_header_id|>system<|end_header_id|>\n",
      "\n",
      "Cutting Knowledge Date: December 2023\n",
      "Today Date: 11 Jun 2025\n",
      "\n",
      "You are an advanced model specializing in question answering.<|eot_id|><|start_header_id|>user<|end_header_id|>\n",
      "\n",
      "Answer the following question with clear sentences. \n",
      "Avoid elaboration or unnecessary details.\n",
      "Focus only on the African wild context when answering.\n",
      "\n",
      "Question: Which country do I have to visit to see giraffe?\n",
      "Answer:<|eot_id|><|start_header_id|>assistant<|end_header_id|>\n",
      "\n",
      "\n",
      "==========\n",
      "Gold Answer: [\"Sorry, I don't have any information about giraffe\"]\n",
      "==========\n"
     ]
    },
    {
     "name": "stderr",
     "output_type": "stream",
     "text": [
      "Setting `pad_token_id` to `eos_token_id`:128001 for open-end generation.\n"
     ]
    },
    {
     "name": "stdout",
     "output_type": "stream",
     "text": [
      "LLM answer: South Africa is the primary country where you can see giraffes in the wild.\n",
      "----------------------------------------------------------------------------------------------------------------------------------\n",
      "Question: <|begin_of_text|><|start_header_id|>system<|end_header_id|>\n",
      "\n",
      "Cutting Knowledge Date: December 2023\n",
      "Today Date: 11 Jun 2025\n",
      "\n",
      "You are an advanced model specializing in question answering.<|eot_id|><|start_header_id|>user<|end_header_id|>\n",
      "\n",
      "Answer the following question with clear sentences. \n",
      "Avoid elaboration or unnecessary details.\n",
      "Focus only on the African wild context when answering.\n",
      "\n",
      "Question: In what kind of habitat do giraff live?\n",
      "Answer:<|eot_id|><|start_header_id|>assistant<|end_header_id|>\n",
      "\n",
      "\n",
      "==========\n",
      "Gold Answer: [\"Sorry, I don't have any information about giraffe\"]\n",
      "==========\n"
     ]
    },
    {
     "name": "stderr",
     "output_type": "stream",
     "text": [
      "Setting `pad_token_id` to `eos_token_id`:128001 for open-end generation.\n"
     ]
    },
    {
     "name": "stdout",
     "output_type": "stream",
     "text": [
      "LLM answer: Giraffes live in savannas and grasslands in Africa.\n",
      "----------------------------------------------------------------------------------------------------------------------------------\n",
      "Question: <|begin_of_text|><|start_header_id|>system<|end_header_id|>\n",
      "\n",
      "Cutting Knowledge Date: December 2023\n",
      "Today Date: 11 Jun 2025\n",
      "\n",
      "You are an advanced model specializing in question answering.<|eot_id|><|start_header_id|>user<|end_header_id|>\n",
      "\n",
      "Answer the following question with clear sentences. \n",
      "Avoid elaboration or unnecessary details.\n",
      "Focus only on the African wild context when answering.\n",
      "\n",
      "Question: Which animals are endangered?\n",
      "Answer:<|eot_id|><|start_header_id|>assistant<|end_header_id|>\n",
      "\n",
      "\n",
      "==========\n",
      "Gold Answer: ['Impalas are endangered']\n",
      "==========\n"
     ]
    },
    {
     "name": "stderr",
     "output_type": "stream",
     "text": [
      "Setting `pad_token_id` to `eos_token_id`:128001 for open-end generation.\n"
     ]
    },
    {
     "name": "stdout",
     "output_type": "stream",
     "text": [
      "LLM answer: In Africa, the following animals are endangered: lions, elephants, giraffes, rhinoceros, cheetahs, and hyenas.\n",
      "----------------------------------------------------------------------------------------------------------------------------------\n",
      "Question: <|begin_of_text|><|start_header_id|>system<|end_header_id|>\n",
      "\n",
      "Cutting Knowledge Date: December 2023\n",
      "Today Date: 11 Jun 2025\n",
      "\n",
      "You are an advanced model specializing in question answering.<|eot_id|><|start_header_id|>user<|end_header_id|>\n",
      "\n",
      "Answer the following question with clear sentences. \n",
      "Avoid elaboration or unnecessary details.\n",
      "Focus only on the African wild context when answering.\n",
      "\n",
      "Question: Do giraffe and Elephant live in the same habitat?\n",
      "Answer:<|eot_id|><|start_header_id|>assistant<|end_header_id|>\n",
      "\n",
      "\n",
      "==========\n",
      "Gold Answer: ['No giraffe and Elephant do not live in the same habitat']\n",
      "==========\n"
     ]
    },
    {
     "name": "stderr",
     "output_type": "stream",
     "text": [
      "Setting `pad_token_id` to `eos_token_id`:128001 for open-end generation.\n"
     ]
    },
    {
     "name": "stdout",
     "output_type": "stream",
     "text": [
      "LLM answer: Yes, both giraffes and elephants are found in savannas and grasslands in Africa.\n",
      "----------------------------------------------------------------------------------------------------------------------------------\n",
      "Question: <|begin_of_text|><|start_header_id|>system<|end_header_id|>\n",
      "\n",
      "Cutting Knowledge Date: December 2023\n",
      "Today Date: 11 Jun 2025\n",
      "\n",
      "You are an advanced model specializing in question answering.<|eot_id|><|start_header_id|>user<|end_header_id|>\n",
      "\n",
      "Answer the following question with clear sentences. \n",
      "Avoid elaboration or unnecessary details.\n",
      "Focus only on the African wild context when answering.\n",
      "\n",
      "Question: Are there animals that are carnivore but still eat some plants or parts of plants?\n",
      "Answer:<|eot_id|><|start_header_id|>assistant<|end_header_id|>\n",
      "\n",
      "\n",
      "==========\n",
      "Gold Answer: ['I do not have any information about it']\n",
      "==========\n"
     ]
    },
    {
     "name": "stderr",
     "output_type": "stream",
     "text": [
      "Setting `pad_token_id` to `eos_token_id`:128001 for open-end generation.\n",
      "Setting `pad_token_id` to `eos_token_id`:128001 for open-end generation.\n"
     ]
    },
    {
     "name": "stdout",
     "output_type": "stream",
     "text": [
      "LLM answer: Yes, there are carnivores in the African wild that eat some plants or plant parts.\n",
      "----------------------------------------------------------------------------------------------------------------------------------\n",
      "Question: <|begin_of_text|><|start_header_id|>system<|end_header_id|>\n",
      "\n",
      "Cutting Knowledge Date: December 2023\n",
      "Today Date: 11 Jun 2025\n",
      "\n",
      "You are an advanced model specializing in question answering.<|eot_id|><|start_header_id|>user<|end_header_id|>\n",
      "\n",
      "Answer the following question with clear sentences. \n",
      "Avoid elaboration or unnecessary details.\n",
      "Focus only on the African wild context when answering.\n",
      "\n",
      "Question: What is defined as being a part of a tree?\n",
      "\n",
      "Answer:<|eot_id|><|start_header_id|>assistant<|end_header_id|>\n",
      "\n",
      "\n",
      "==========\n",
      "Gold Answer: ['branch is part of tree']\n",
      "==========\n",
      "LLM answer: A branch.\n",
      "----------------------------------------------------------------------------------------------------------------------------------\n",
      "Question: <|begin_of_text|><|start_header_id|>system<|end_header_id|>\n",
      "\n",
      "Cutting Knowledge Date: December 2023\n",
      "Today Date: 11 Jun 2025\n",
      "\n",
      "You are an advanced model specializing in question answering.<|eot_id|><|start_header_id|>user<|end_header_id|>\n",
      "\n",
      "Answer the following question with clear sentences. \n",
      "Avoid elaboration or unnecessary details.\n",
      "Focus only on the African wild context when answering.\n",
      "\n",
      "Question: Which plant is defined as having no branches?\n",
      "\n",
      "Answer:<|eot_id|><|start_header_id|>assistant<|end_header_id|>\n",
      "\n",
      "\n",
      "==========\n",
      "Gold Answer: ['Palmtree has no branches']\n",
      "==========\n",
      "LLM answer: The answer is: Acacia.\n",
      "----------------------------------------------------------------------------------------------------------------------------------\n"
     ]
    }
   ],
   "source": [
    "for batch in dataloader:\n",
    "    print(\"Question:\", batch['text'][0])\n",
    "    print(\"==\"*5)\n",
    "    print(\"Gold Answer:\", batch['answer'])\n",
    "    print(\"==\"*5)\n",
    "    print(\"LLM answer:\", qa_model.answer(batch['text']))\n",
    "    print(\"-------------\"*10)"
   ]
  },
  {
   "cell_type": "code",
   "execution_count": 8,
   "id": "47ee8815-4b75-4d53-a1bb-08c5aa84117b",
   "metadata": {},
   "outputs": [
    {
     "data": {
      "text/plain": [
       "['The lion eats the impala.']"
      ]
     },
     "execution_count": 8,
     "metadata": {},
     "output_type": "execute_result"
    }
   ],
   "source": [
    "batch['answer']"
   ]
  },
  {
   "cell_type": "code",
   "execution_count": 9,
   "id": "0bf95217-b46c-4f22-8da6-5521530287e2",
   "metadata": {},
   "outputs": [
    {
     "name": "stderr",
     "output_type": "stream",
     "text": [
      "Setting `pad_token_id` to `eos_token_id`:128001 for open-end generation.\n"
     ]
    },
    {
     "data": {
      "text/plain": [
       "'Bees eat nectar from flowers.'"
      ]
     },
     "execution_count": 9,
     "metadata": {},
     "output_type": "execute_result"
    }
   ],
   "source": [
    "qa_model.answer(batch['text'])"
   ]
  },
  {
   "cell_type": "code",
   "execution_count": null,
   "id": "5fdc6158-f0d3-4fbb-814d-b52e195d3814",
   "metadata": {},
   "outputs": [],
   "source": []
  }
 ],
 "metadata": {
  "kernelspec": {
   "display_name": "Python 3 (ipykernel)",
   "language": "python",
   "name": "python3"
  },
  "language_info": {
   "codemirror_mode": {
    "name": "ipython",
    "version": 3
   },
   "file_extension": ".py",
   "mimetype": "text/x-python",
   "name": "python",
   "nbconvert_exporter": "python",
   "pygments_lexer": "ipython3",
   "version": "3.9.16"
  }
 },
 "nbformat": 4,
 "nbformat_minor": 5
}
