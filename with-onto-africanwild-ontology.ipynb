{
 "cells": [
  {
   "cell_type": "code",
   "execution_count": 8,
   "id": "b0fe795e-326a-4555-bffa-2a5994c1ca3f",
   "metadata": {},
   "outputs": [],
   "source": [
    "import pandas as pd\n",
    "\n",
    "\n",
    "df = pd.read_csv(\"dataset/africanwildlife.csv\")"
   ]
  },
  {
   "cell_type": "code",
   "execution_count": 9,
   "id": "79f70154-a3bd-4302-aa01-f0affd2b011d",
   "metadata": {},
   "outputs": [],
   "source": [
    "from qa import JediQA\n",
    "from dataset import get_dataloader_onto\n",
    "import config"
   ]
  },
  {
   "cell_type": "code",
   "execution_count": 10,
   "id": "183a1f87-0cd8-4130-83d5-6a81c022146e",
   "metadata": {},
   "outputs": [],
   "source": [
    "def read_text_file(file_path):\n",
    "    with open(file_path, 'r', encoding='utf-8') as file:\n",
    "        return file.read()\n",
    "\n",
    "onto = read_text_file('awo.owl')"
   ]
  },
  {
   "cell_type": "code",
   "execution_count": 11,
   "id": "b23c5461-99bd-4971-b1ab-d2d09c8b9e68",
   "metadata": {},
   "outputs": [],
   "source": [
    "for llm_id in config.models_list:\n",
    "    qa_model  = JediQA(llm_id, token=config.huggingface_token)\n",
    "    for prompt_type, prompt in config.prompt_african_list_onto.items():    \n",
    "        dataloader = get_dataloader_onto(df, qa_model.tokenizer, prompt, config.onto_instruction, onto, batch_size=1)\n",
    "    break"
   ]
  },
  {
   "cell_type": "code",
   "execution_count": 12,
   "id": "eced778e-8ce8-4e82-a8a1-734b433fe209",
   "metadata": {},
   "outputs": [
    {
     "data": {
      "text/plain": [
       "'meta-llama/Llama-3.2-1B-Instruct'"
      ]
     },
     "execution_count": 12,
     "metadata": {},
     "output_type": "execute_result"
    }
   ],
   "source": [
    "llm_id"
   ]
  },
  {
   "cell_type": "code",
   "execution_count": 13,
   "id": "a5db2b88-fb13-4604-b16c-770cfcecacd3",
   "metadata": {},
   "outputs": [
    {
     "name": "stderr",
     "output_type": "stream",
     "text": [
      "Setting `pad_token_id` to `eos_token_id`:128001 for open-end generation.\n"
     ]
    },
    {
     "name": "stdout",
     "output_type": "stream",
     "text": [
      "Question: Which animal eats which other animal?\n",
      "==========\n",
      "Gold Answer: ['The lion eats the impala.']\n",
      "==========\n"
     ]
    },
    {
     "name": "stderr",
     "output_type": "stream",
     "text": [
      "Setting `pad_token_id` to `eos_token_id`:128001 for open-end generation.\n"
     ]
    },
    {
     "name": "stdout",
     "output_type": "stream",
     "text": [
      "LLM answer: The animals that eat other animals are: \n",
      "\n",
      "- Carnivorous plants (eats plants)\n",
      "- Herbivorous animals (eats plants or other herbivorous animals)\n",
      "- Omnivorous animals (eats both plants and other animals)\n",
      "----------------------------------------------------------------------------------------------------------------------------------\n",
      "Question: which animal is a herbivore?\n",
      "==========\n",
      "Gold Answer: ['Elephant is a herbivore']\n",
      "==========\n"
     ]
    },
    {
     "name": "stderr",
     "output_type": "stream",
     "text": [
      "Setting `pad_token_id` to `eos_token_id`:128001 for open-end generation.\n"
     ]
    },
    {
     "name": "stdout",
     "output_type": "stream",
     "text": [
      "LLM answer: The animal that is a herbivore is the Elephant.\n",
      "----------------------------------------------------------------------------------------------------------------------------------\n",
      "Question: Which plant parts does [this omnivorous or herbivorourus animal] eat?\n",
      "==========\n",
      "Gold Answer: tensor([nan], dtype=torch.float64)\n",
      "==========\n"
     ]
    },
    {
     "name": "stderr",
     "output_type": "stream",
     "text": [
      "Setting `pad_token_id` to `eos_token_id`:128001 for open-end generation.\n"
     ]
    },
    {
     "name": "stdout",
     "output_type": "stream",
     "text": [
      "LLM answer: The plant parts eaten by [this omnivorous or herbivorous animal] are:\n",
      "\n",
      "* Fruiting bodies\n",
      "* Leaves\n",
      "* Twigs\n",
      "* Roots\n",
      "* Stem\n",
      "* Branches\n",
      "* Leaves\n",
      "* Roots\n",
      "* Stems\n",
      "----------------------------------------------------------------------------------------------------------------------------------\n",
      "Question: Does a lion eat plants or plant parts?\n",
      "==========\n",
      "Gold Answer: ['No, a lion does not eat plants or plant parts.']\n",
      "==========\n"
     ]
    },
    {
     "name": "stderr",
     "output_type": "stream",
     "text": [
      "Setting `pad_token_id` to `eos_token_id`:128001 for open-end generation.\n"
     ]
    },
    {
     "name": "stdout",
     "output_type": "stream",
     "text": [
      "LLM answer: No, a lion does not eat plants.\n",
      "----------------------------------------------------------------------------------------------------------------------------------\n",
      "Question: Is there an animal that does not drink water?\n",
      "==========\n",
      "Gold Answer: [\"No, there is no animal which doesn't drink water\"]\n",
      "==========\n"
     ]
    },
    {
     "name": "stderr",
     "output_type": "stream",
     "text": [
      "Setting `pad_token_id` to `eos_token_id`:128001 for open-end generation.\n"
     ]
    },
    {
     "name": "stdout",
     "output_type": "stream",
     "text": [
      "LLM answer: No, there is no animal in the AfricanWildlifeOntology1 that does not drink water.\n",
      "----------------------------------------------------------------------------------------------------------------------------------\n",
      "Question: Which plants eat animals?\n",
      "==========\n",
      "Gold Answer: ['CarnivorousPlant eats animals']\n",
      "==========\n"
     ]
    },
    {
     "name": "stderr",
     "output_type": "stream",
     "text": [
      "Setting `pad_token_id` to `eos_token_id`:128001 for open-end generation.\n"
     ]
    },
    {
     "name": "stdout",
     "output_type": "stream",
     "text": [
      "LLM answer: The plants that eat animals are the carnivorous plants.\n",
      "----------------------------------------------------------------------------------------------------------------------------------\n",
      "Question: Which animals eat the Impalas?\n",
      "==========\n",
      "Gold Answer: ['lion eats the impalas']\n",
      "==========\n"
     ]
    },
    {
     "name": "stderr",
     "output_type": "stream",
     "text": [
      "Setting `pad_token_id` to `eos_token_id`:128001 for open-end generation.\n"
     ]
    },
    {
     "name": "stdout",
     "output_type": "stream",
     "text": [
      "LLM answer: The animals that eat Impalas are the herbivores.\n",
      "----------------------------------------------------------------------------------------------------------------------------------\n",
      "Question: Which animals are the predators of Impala?\n",
      "==========\n",
      "Gold Answer: ['lions are the predators of Impala']\n",
      "==========\n"
     ]
    },
    {
     "name": "stderr",
     "output_type": "stream",
     "text": [
      "Setting `pad_token_id` to `eos_token_id`:128001 for open-end generation.\n"
     ]
    },
    {
     "name": "stdout",
     "output_type": "stream",
     "text": [
      "LLM answer: The predators of Impala are the Lion and the Warthog.\n",
      "----------------------------------------------------------------------------------------------------------------------------------\n",
      "Question: Are there impala in africa?\n",
      "==========\n",
      "Gold Answer: ['Yes, Impala are in africa']\n",
      "==========\n"
     ]
    },
    {
     "name": "stderr",
     "output_type": "stream",
     "text": [
      "Setting `pad_token_id` to `eos_token_id`:128001 for open-end generation.\n"
     ]
    },
    {
     "name": "stdout",
     "output_type": "stream",
     "text": [
      "LLM answer: Yes, there are impalas in Africa.\n",
      "----------------------------------------------------------------------------------------------------------------------------------\n",
      "Question: Which country do I have to visit to see giraffe?\n",
      "==========\n",
      "Gold Answer: [\"Sorry, I don't have any information about giraffe\"]\n",
      "==========\n"
     ]
    },
    {
     "name": "stderr",
     "output_type": "stream",
     "text": [
      "Setting `pad_token_id` to `eos_token_id`:128001 for open-end generation.\n"
     ]
    },
    {
     "name": "stdout",
     "output_type": "stream",
     "text": [
      "LLM answer: You cannot see giraffes in the wild.\n",
      "----------------------------------------------------------------------------------------------------------------------------------\n",
      "Question: In what kind of habitat do giraff live?\n",
      "==========\n",
      "Gold Answer: [\"Sorry, I don't have any information about giraffe\"]\n",
      "==========\n"
     ]
    },
    {
     "name": "stderr",
     "output_type": "stream",
     "text": [
      "Setting `pad_token_id` to `eos_token_id`:128001 for open-end generation.\n"
     ]
    },
    {
     "name": "stdout",
     "output_type": "stream",
     "text": [
      "LLM answer: Giraffes live in savannas and grasslands.\n",
      "----------------------------------------------------------------------------------------------------------------------------------\n",
      "Question: Which animals are endangered?\n",
      "==========\n",
      "Gold Answer: ['Impalas are endangered']\n",
      "==========\n"
     ]
    },
    {
     "name": "stderr",
     "output_type": "stream",
     "text": [
      "Setting `pad_token_id` to `eos_token_id`:128001 for open-end generation.\n"
     ]
    },
    {
     "name": "stdout",
     "output_type": "stream",
     "text": [
      "LLM answer: The animals endangered in the AfricanWildlifeOntology are:\n",
      "\n",
      "* Lion\n",
      "* Elephant\n",
      "* Giraffe\n",
      "* Impala\n",
      "* Warthog\n",
      "* Rhinoceros\n",
      "* Hyena\n",
      "* Crocodile\n",
      "----------------------------------------------------------------------------------------------------------------------------------\n",
      "Question: Do giraffe and Elephant live in the same habitat?\n",
      "==========\n",
      "Gold Answer: ['No giraffe and Elephant do not live in the same habitat']\n",
      "==========\n"
     ]
    },
    {
     "name": "stderr",
     "output_type": "stream",
     "text": [
      "Setting `pad_token_id` to `eos_token_id`:128001 for open-end generation.\n"
     ]
    },
    {
     "name": "stdout",
     "output_type": "stream",
     "text": [
      "LLM answer: No, giraffes and elephants do not live in the same habitat.\n",
      "----------------------------------------------------------------------------------------------------------------------------------\n",
      "Question: Are there animals that are carnivore but still eat some plants or parts of plants?\n",
      "==========\n",
      "Gold Answer: ['I do not have any information about it']\n",
      "==========\n"
     ]
    },
    {
     "name": "stderr",
     "output_type": "stream",
     "text": [
      "Setting `pad_token_id` to `eos_token_id`:128001 for open-end generation.\n"
     ]
    },
    {
     "name": "stdout",
     "output_type": "stream",
     "text": [
      "LLM answer: Yes, there are animals that are carnivorous but still eat some plants or parts of plants.\n",
      "----------------------------------------------------------------------------------------------------------------------------------\n",
      "Question: What is defined as being a part of a tree?\n",
      "\n",
      "==========\n",
      "Gold Answer: ['branch is part of tree']\n",
      "==========\n"
     ]
    },
    {
     "name": "stderr",
     "output_type": "stream",
     "text": [
      "Setting `pad_token_id` to `eos_token_id`:128001 for open-end generation.\n"
     ]
    },
    {
     "name": "stdout",
     "output_type": "stream",
     "text": [
      "LLM answer: The class \"Branch\" is defined as a part of a tree in the AfricanWildlifeOntology1 ontology.\n",
      "----------------------------------------------------------------------------------------------------------------------------------\n",
      "Question: Which plant is defined as having no branches?\n",
      "\n",
      "==========\n",
      "Gold Answer: ['Palmtree has no branches']\n",
      "==========\n",
      "LLM answer: The plant \"FruitingBody\" is defined as having no branches.\n",
      "----------------------------------------------------------------------------------------------------------------------------------\n"
     ]
    }
   ],
   "source": [
    "for batch in dataloader:\n",
    "    print(\"Question:\", batch['question'][0])\n",
    "    print(\"==\"*5)\n",
    "    print(\"Gold Answer:\", batch['answer'])\n",
    "    print(\"==\"*5)\n",
    "    print(\"LLM answer:\", qa_model.answer(batch['text']))\n",
    "    print(\"-------------\"*10)"
   ]
  },
  {
   "cell_type": "code",
   "execution_count": null,
   "id": "5fdc6158-f0d3-4fbb-814d-b52e195d3814",
   "metadata": {},
   "outputs": [],
   "source": []
  }
 ],
 "metadata": {
  "kernelspec": {
   "display_name": "Python 3 (ipykernel)",
   "language": "python",
   "name": "python3"
  },
  "language_info": {
   "codemirror_mode": {
    "name": "ipython",
    "version": 3
   },
   "file_extension": ".py",
   "mimetype": "text/x-python",
   "name": "python",
   "nbconvert_exporter": "python",
   "pygments_lexer": "ipython3",
   "version": "3.9.16"
  }
 },
 "nbformat": 4,
 "nbformat_minor": 5
}
